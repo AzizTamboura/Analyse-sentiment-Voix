{
 "cells": [
  {
   "cell_type": "code",
   "execution_count": null,
   "metadata": {
    "id": "qYxn0oL-ThFY"
   },
   "outputs": [],
   "source": [
    "import pandas as pd\n",
    "import numpy as np\n",
    "import os\n",
    "import seaborn as sns\n",
    "import matplotlib.pyplot as plt\n",
    "import librosa\n",
    "import librosa.display\n",
    "import IPython.display as Audio\n",
    "import warnings\n",
    "warnings.filterwarnings('ignore')"
   ]
  },
  {
   "cell_type": "code",
   "execution_count": null,
   "metadata": {
    "colab": {
     "base_uri": "https://localhost:8080/"
    },
    "id": "tnmEke0WUPKr",
    "outputId": "6054b480-1293-4669-cd87-c9038524caac"
   },
   "outputs": [],
   "source": [
    "import kagglehub\n",
    "path= kagglehub.dataset_download(\"ejlok1/toronto-emotional-speech-set-tess\")\n",
    "print(\"Path to dataset files\",path)"
   ]
  },
  {
   "cell_type": "code",
   "execution_count": null,
   "metadata": {
    "colab": {
     "base_uri": "https://localhost:8080/"
    },
    "id": "ks41mkYdUzYf",
    "outputId": "f1bdda45-00af-48dc-ae82-365d7a829684"
   },
   "outputs": [],
   "source": [
    "paths = []\n",
    "labels = []\n",
    "for dirname, _, filnames in os.walk('/root/.cache/kagglehub/datasets/ejlok1/toronto-emotional-speech-set-tess/versions/1'):\n",
    "    for filename in filnames:\n",
    "      paths.append(os.path.join(dirname, filename))\n",
    "      label = filename.split('_')[-1]\n",
    "      label = label.split('.')[0]\n",
    "      labels.append(label.lower())\n",
    "    if len(paths) == 2800:\n",
    "          break\n",
    "print('Dataset is Loaded !')"
   ]
  },
  {
   "cell_type": "code",
   "execution_count": null,
   "metadata": {
    "colab": {
     "base_uri": "https://localhost:8080/"
    },
    "id": "ZorrTFB5U4ZK",
    "outputId": "2e8ec063-620e-4e23-bb4d-b26f895d2e27"
   },
   "outputs": [],
   "source": [
    "len(paths)"
   ]
  },
  {
   "cell_type": "code",
   "execution_count": null,
   "metadata": {
    "colab": {
     "base_uri": "https://localhost:8080/"
    },
    "id": "szkbgfBMYg1O",
    "outputId": "717e6482-6a9e-4e90-a057-4e093b7b98ef"
   },
   "outputs": [],
   "source": [
    "paths[:5]"
   ]
  },
  {
   "cell_type": "code",
   "execution_count": null,
   "metadata": {
    "colab": {
     "base_uri": "https://localhost:8080/",
     "height": 206
    },
    "id": "KE1g6u0TY5G7",
    "outputId": "e6887d95-65d1-4217-d1fc-689c299d51df"
   },
   "outputs": [],
   "source": [
    "#Create a dataframe\n",
    "df = pd.DataFrame()\n",
    "df['speech'] = paths\n",
    "df['label'] = labels\n",
    "df.head()"
   ]
  },
  {
   "cell_type": "code",
   "execution_count": null,
   "metadata": {
    "colab": {
     "base_uri": "https://localhost:8080/",
     "height": 335
    },
    "id": "DTDuOVx7Y4T9",
    "outputId": "78254a6a-07a9-4a03-9ed7-e39f34977eba"
   },
   "outputs": [],
   "source": [
    "df['label'].value_counts()"
   ]
  },
  {
   "cell_type": "code",
   "execution_count": null,
   "metadata": {
    "colab": {
     "base_uri": "https://localhost:8080/",
     "height": 466
    },
    "id": "4yiOSqbeiLeb",
    "outputId": "31ea4da1-8719-4b7f-8289-dac45cdb23ca"
   },
   "outputs": [],
   "source": [
    "sns.countplot(data=df,x='label')"
   ]
  },
  {
   "cell_type": "code",
   "execution_count": null,
   "metadata": {
    "id": "YzoIQLAMiLgi"
   },
   "outputs": [],
   "source": [
    "def waveplot(data,sr,emotion):\n",
    "  plt.figure(figsize=(10,4))\n",
    "  plt.title(emotion,size=20)\n",
    "  librosa.display.waveshow(data,sr=sr)\n",
    "  plt.show()\n",
    "def spectogram(data,sr,emotion):\n",
    "  x = librosa.stft(data)\n",
    "  xdb = librosa.amplitude_to_db(abs(x))\n",
    "  plt.figure(figsize=(11,4))\n",
    "  plt.title(emotion,size=20)\n",
    "  librosa.display.specshow(xdb,sr=sr,x_axis='time',y_axis='hz')\n",
    "  plt.colorbar()"
   ]
  },
  {
   "cell_type": "code",
   "execution_count": null,
   "metadata": {
    "colab": {
     "base_uri": "https://localhost:8080/",
     "height": 878
    },
    "id": "Z_Fd7f0biLkG",
    "outputId": "4a69d08e-504d-4599-fcee-2b310524c668"
   },
   "outputs": [],
   "source": [
    "emotion = 'fear'\n",
    "path = np.array(df['speech'][df['label']==emotion])[0]\n",
    "data,sampling_rate = librosa.load(path)\n",
    "waveplot(data,sample_rate,emotion)\n",
    "spectogram(data,sample_rate,emotion)\n",
    "Audio.Audio(path)"
   ]
  },
  {
   "cell_type": "code",
   "execution_count": null,
   "metadata": {
    "colab": {
     "base_uri": "https://localhost:8080/",
     "height": 418
    },
    "id": "ek8dKHSepeC9",
    "outputId": "4c0b3e0e-820b-407b-e9d1-5d2e10f19644"
   },
   "outputs": [],
   "source": [
    "emotion = 'angry'\n",
    "path = np.array(df['speech'][df['label']==emotion])[1]\n",
    "data,sampling_rate = librosa.load(path)\n",
    "waveplot(data,sample_rate,emotion)\n",
    "Audio(path)"
   ]
  },
  {
   "cell_type": "code",
   "execution_count": null,
   "metadata": {
    "colab": {
     "base_uri": "https://localhost:8080/",
     "height": 878
    },
    "id": "I8NElnSf-WUt",
    "outputId": "d39cf806-95ae-4d12-bf18-fd25be4f9428"
   },
   "outputs": [],
   "source": [
    "emotion = 'sad'\n",
    "path = np.array(df['speech'][df['label']==emotion])[0]\n",
    "data, sampling_rate = librosa.load(path)\n",
    "waveplot(data, sampling_rate, emotion)\n",
    "spectogram(data, sampling_rate, emotion)\n",
    "Audio.Audio(path)"
   ]
  },
  {
   "cell_type": "code",
   "execution_count": null,
   "metadata": {
    "colab": {
     "base_uri": "https://localhost:8080/",
     "height": 878
    },
    "id": "f6JqFmu5_Zm4",
    "outputId": "c0598542-9b06-4a4f-eb81-13d75c76052f"
   },
   "outputs": [],
   "source": [
    "emotion = 'neutral'\n",
    "path = np.array(df['speech'][df['label']==emotion])[0]\n",
    "data, sampling_rate = librosa.load(path)\n",
    "waveplot(data, sampling_rate, emotion)\n",
    "spectogram(data, sampling_rate, emotion)\n",
    "Audio.Audio(path)"
   ]
  },
  {
   "cell_type": "code",
   "execution_count": null,
   "metadata": {
    "colab": {
     "base_uri": "https://localhost:8080/",
     "height": 878
    },
    "id": "bJ3VEjm2-5tW",
    "outputId": "6ce3e29a-ac80-4f36-914e-6807fa738ff4"
   },
   "outputs": [],
   "source": [
    "emotion = 'happy'\n",
    "path = np.array(df['speech'][df['label']==emotion])[0]\n",
    "data, sampling_rate = librosa.load(path)\n",
    "waveplot(data, sampling_rate, emotion)\n",
    "spectogram(data, sampling_rate, emotion)\n",
    "Audio.Audio(path)"
   ]
  },
  {
   "cell_type": "code",
   "execution_count": null,
   "metadata": {
    "id": "3rRZm3dZpqeb"
   },
   "outputs": [],
   "source": [
    "def extract_mfcc(filename):\n",
    "  y, sr = librosa.load(filename,duration=3,offset=0.5)\n",
    "  mfcc = np.mean(librosa.feature.mfcc(y=y,sr=sr,n_mfcc=40).T,axis=0)\n",
    "  return mfcc"
   ]
  },
  {
   "cell_type": "code",
   "execution_count": null,
   "metadata": {
    "colab": {
     "base_uri": "https://localhost:8080/"
    },
    "id": "EQETDcEIp4xU",
    "outputId": "4c287488-a084-4c13-9085-3243f3e5f1ac"
   },
   "outputs": [],
   "source": [
    "extract_mfcc(df['speech'][0])"
   ]
  },
  {
   "cell_type": "code",
   "execution_count": null,
   "metadata": {
    "id": "8yTpoaDjp_Gb"
   },
   "outputs": [],
   "source": [
    "X_mfcc = df['speech'].apply(lambda x: extract_mfcc(x))"
   ]
  },
  {
   "cell_type": "code",
   "execution_count": null,
   "metadata": {
    "colab": {
     "base_uri": "https://localhost:8080/",
     "height": 458
    },
    "id": "YlZki0UPqf1M",
    "outputId": "8d2bbe36-dcc9-463c-89b7-18ab2e09d675"
   },
   "outputs": [],
   "source": [
    "X_mfcc"
   ]
  },
  {
   "cell_type": "code",
   "execution_count": null,
   "metadata": {
    "colab": {
     "base_uri": "https://localhost:8080/"
    },
    "id": "NHexPgNuqkdg",
    "outputId": "ea62229c-fe3a-4ce4-b7ae-aaa40209aae3"
   },
   "outputs": [],
   "source": [
    "X = [x for x in X_mfcc]\n",
    "X = np.array(X)\n",
    "X.shape"
   ]
  },
  {
   "cell_type": "code",
   "execution_count": null,
   "metadata": {
    "colab": {
     "base_uri": "https://localhost:8080/"
    },
    "id": "jOCI27ADqoaE",
    "outputId": "a21a8df0-aa06-4a2a-bb4b-34cb9086d887"
   },
   "outputs": [],
   "source": [
    "X = np.expand_dims(X,-1)\n",
    "X.shape"
   ]
  },
  {
   "cell_type": "code",
   "execution_count": null,
   "metadata": {
    "id": "PG1FpvU1q01d"
   },
   "outputs": [],
   "source": [
    "from sklearn.preprocessing import OneHotEncoder\n",
    "enc = OneHotEncoder()\n",
    "y = enc.fit_transform(df[['label']])"
   ]
  },
  {
   "cell_type": "code",
   "execution_count": null,
   "metadata": {
    "id": "-RoiAKQrrCOd"
   },
   "outputs": [],
   "source": [
    "y = y.toarray()"
   ]
  },
  {
   "cell_type": "code",
   "execution_count": null,
   "metadata": {
    "colab": {
     "base_uri": "https://localhost:8080/"
    },
    "id": "Jap_bczaqoh4",
    "outputId": "815b90e3-ab9e-460e-ade3-4bfb6444f949"
   },
   "outputs": [],
   "source": [
    "y.shape"
   ]
  },
  {
   "cell_type": "code",
   "execution_count": null,
   "metadata": {
    "colab": {
     "base_uri": "https://localhost:8080/",
     "height": 358
    },
    "id": "BEoMUiV_rBrL",
    "outputId": "428ac99e-8aab-423a-ccd0-5892c2b565d6"
   },
   "outputs": [],
   "source": [
    "from keras.models import Sequential\n",
    "from keras.layers import Dense, LSTM, Dropout\n",
    "model = Sequential([\n",
    "LSTM(256, return_sequences=False, input_shape=(40,1)),\n",
    "Dropout(0.2),\n",
    "Dense(128, activation='relu'),\n",
    "Dropout(0.2),\n",
    "Dense(64, activation='relu'),\n",
    "Dropout(0.2),\n",
    "Dense(7, activation='softmax')\n",
    "])\n",
    "model.compile(loss='categorical_crossentropy', optimizer='adam', metrics=['accuracy'])\n",
    "model.summary()\n"
   ]
  },
  {
   "cell_type": "code",
   "execution_count": null,
   "metadata": {
    "colab": {
     "base_uri": "https://localhost:8080/"
    },
    "id": "HfpaLlyZsgi6",
    "outputId": "b9fc6543-c34a-4090-8db8-928bd103890f"
   },
   "outputs": [],
   "source": [
    "#train the model\n",
    "history = model.fit(X, y, validation_split=0.2, epochs=50, batch_size=64)"
   ]
  },
  {
   "cell_type": "code",
   "execution_count": null,
   "metadata": {
    "colab": {
     "base_uri": "https://localhost:8080/",
     "height": 449
    },
    "id": "uxfJLZ3wvjap",
    "outputId": "f07bb9fc-a065-4c87-fff3-c55b8ffdc71d"
   },
   "outputs": [],
   "source": [
    "epochs = list(range(50))\n",
    "acc = history.history['accuracy']\n",
    "val_acc = history.history['val_accuracy']\n",
    "plt.plot(epochs, acc, label='Training Accuracy')\n",
    "plt.plot(epochs, val_acc, label='Validation Accuracy')\n",
    "plt.xlabel('Epochs')\n",
    "plt.ylabel('Accuracy')\n",
    "plt.legend()\n",
    "plt.show()\n"
   ]
  },
  {
   "cell_type": "code",
   "execution_count": null,
   "metadata": {
    "colab": {
     "base_uri": "https://localhost:8080/",
     "height": 449
    },
    "id": "YzIapjDC_qvc",
    "outputId": "f5438151-2687-4e6b-8a6b-5dd58c279813"
   },
   "outputs": [],
   "source": [
    "loss = history.history['loss']\n",
    "val_loss = history.history['val_loss']\n",
    "\n",
    "plt.plot(epochs, loss, label='train loss')\n",
    "plt.plot(epochs, val_loss, label='val loss')\n",
    "plt.xlabel('epochs')\n",
    "plt.ylabel('loss')\n",
    "plt.legend()\n",
    "plt.show()"
   ]
  }
 ],
 "metadata": {
  "colab": {
   "provenance": []
  },
  "kernelspec": {
   "display_name": "Python 3 (ipykernel)",
   "language": "python",
   "name": "python3"
  },
  "language_info": {
   "codemirror_mode": {
    "name": "ipython",
    "version": 3
   },
   "file_extension": ".py",
   "mimetype": "text/x-python",
   "name": "python",
   "nbconvert_exporter": "python",
   "pygments_lexer": "ipython3",
   "version": "3.12.7"
  }
 },
 "nbformat": 4,
 "nbformat_minor": 4
}
